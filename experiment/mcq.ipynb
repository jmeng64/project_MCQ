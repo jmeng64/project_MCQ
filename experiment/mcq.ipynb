{
 "cells": [
  {
   "cell_type": "code",
   "execution_count": 1,
   "metadata": {},
   "outputs": [],
   "source": [
    "import os, json, pandas as pd, traceback"
   ]
  },
  {
   "cell_type": "code",
   "execution_count": 14,
   "metadata": {},
   "outputs": [],
   "source": [
    "# !pip install -U langchain-openai"
   ]
  },
  {
   "cell_type": "code",
   "execution_count": 2,
   "metadata": {},
   "outputs": [],
   "source": [
    "#from langchain.chat_models import ChatOpenAI\n",
    "# LangChainDeprecationWarning: The class `langchain_community.chat_models.openai.ChatOpenAI` was deprecated in langchain-community 0.0.10 and will be removed in 0.2.0. \n",
    "# An updated version of the class exists in the langchain-openai package and should be used instead. To use it run `pip install -U langchain-openai` and import as `from langchain_openai import ChatOpenAI`.\n",
    "from langchain_openai import ChatOpenAI\n"
   ]
  },
  {
   "cell_type": "code",
   "execution_count": 25,
   "metadata": {},
   "outputs": [],
   "source": [
    "import os\n",
    "from dotenv import load_dotenv\n",
    "\n",
    "load_dotenv() # taking env variables from .env file. \n",
    "\n",
    "mykey=os.environ[\"OPENAI_API_KEY\"]\n"
   ]
  },
  {
   "cell_type": "code",
   "execution_count": 5,
   "metadata": {},
   "outputs": [],
   "source": [
    "mykey=os.environ[\"OPENAI_API_KEY\"]\n",
    "# temperature   0 - more determinisic.   2 - more randomness \n",
    "llm=ChatOpenAI(openai_api_key=mykey, model_name=\"gpt-3.5-turbo\", temperature=0.5)"
   ]
  },
  {
   "cell_type": "code",
   "execution_count": 6,
   "metadata": {},
   "outputs": [],
   "source": [
    "from langchain.llms import OpenAI\n",
    "from langchain.prompts import PromptTemplate\n",
    "from langchain.chains import LLMChain\n",
    "from langchain.chains import SequentialChain\n",
    "from langchain.callbacks import get_openai_callback\n",
    "import PyPDF2 \n"
   ]
  },
  {
   "cell_type": "code",
   "execution_count": 7,
   "metadata": {},
   "outputs": [],
   "source": [
    "RESPONSE_JSON = {\n",
    "    \"1\": {\n",
    "        \"mcq\": \"multiple choice question\",\n",
    "        \"options\": {\n",
    "            \"a\": \"choice here\",\n",
    "            \"b\": \"choice here\",\n",
    "            \"c\": \"choice here\",\n",
    "            \"d\": \"choice here\",\n",
    "        },\n",
    "        \"correct\": \"correct answer\",\n",
    "    },\n",
    "    \"2\": {\n",
    "        \"mcq\": \"multiple choice question\",\n",
    "        \"options\": {\n",
    "            \"a\": \"choice here\",\n",
    "            \"b\": \"choice here\",\n",
    "            \"c\": \"choice here\",\n",
    "            \"d\": \"choice here\",\n",
    "        },\n",
    "        \"correct\": \"correct answer\",\n",
    "    },\n",
    "    \"3\": {\n",
    "        \"mcq\": \"multiple choice question\",\n",
    "        \"options\": {\n",
    "            \"a\": \"choice here\",\n",
    "            \"b\": \"choice here\",\n",
    "            \"c\": \"choice here\",\n",
    "            \"d\": \"choice here\",\n",
    "        },\n",
    "        \"correct\": \"correct answer\",\n",
    "    },\n",
    "}"
   ]
  },
  {
   "cell_type": "code",
   "execution_count": 8,
   "metadata": {},
   "outputs": [],
   "source": [
    "TEMPLATE=\"\"\"\n",
    "Text:{text}\n",
    "You are an expert MCQ maker. Given the above text, it is your job to \\\n",
    "create a quiz  of {number} multiple choice questions for {subject} students in {tone} tone. \n",
    "Make sure the questions are not repeated and check all the questions to be conforming the text as well.\n",
    "Make sure to format your response like  RESPONSE_JSON below  and use it as a guide. \\\n",
    "Ensure to make {number} MCQs\n",
    "### RESPONSE_JSON\n",
    "{response_json}\n",
    "\n",
    "\"\"\""
   ]
  },
  {
   "cell_type": "code",
   "execution_count": 9,
   "metadata": {},
   "outputs": [],
   "source": [
    "quiz_generation_prompt = PromptTemplate(\n",
    "    input_variables=[\"text\", \"number\", \"subject\", \"tone\", \"response_json\"],\n",
    "    template=TEMPLATE\n",
    "    )"
   ]
  },
  {
   "cell_type": "code",
   "execution_count": 10,
   "metadata": {},
   "outputs": [],
   "source": [
    "quiz_chain=LLMChain(llm=llm, prompt=quiz_generation_prompt, output_key=\"quiz\", verbose=True)\n"
   ]
  },
  {
   "cell_type": "code",
   "execution_count": 11,
   "metadata": {},
   "outputs": [],
   "source": [
    "TEMPLATE2=\"\"\"\n",
    "You are an expert english grammarian and writer. Given a Multiple Choice Quiz for {subject} students.\\\n",
    "You need to evaluate the complexity of the question and give a complete analysis of the quiz. Only use at max 50 words for complexity analysis. \n",
    "if the quiz is not at per with the cognitive and analytical abilities of the students,\\\n",
    "update the quiz questions which needs to be changed and change the tone such that it perfectly fits the student abilities\n",
    "Quiz_MCQs:\n",
    "{quiz}\n",
    "\n",
    "Check from an expert English Writer of the above quiz:\n",
    "\"\"\""
   ]
  },
  {
   "cell_type": "code",
   "execution_count": 12,
   "metadata": {},
   "outputs": [],
   "source": [
    "quiz_evaluation_prompt=PromptTemplate(input_variables=[\"subject\", \"quiz\"], template=TEMPLATE)"
   ]
  },
  {
   "cell_type": "code",
   "execution_count": 13,
   "metadata": {},
   "outputs": [],
   "source": [
    "review_chain=LLMChain(llm=llm, prompt=quiz_evaluation_prompt, output_key=\"review\", verbose=True)"
   ]
  },
  {
   "cell_type": "code",
   "execution_count": 14,
   "metadata": {},
   "outputs": [],
   "source": [
    "generate_evaluate_chain=SequentialChain(chains=[quiz_chain, review_chain], input_variables=[\"text\", \"number\", \"subject\", \"tone\", \"response_json\"],\n",
    "                                        output_variables=[\"quiz\", \"review\"], verbose=True,)"
   ]
  },
  {
   "cell_type": "code",
   "execution_count": 15,
   "metadata": {},
   "outputs": [],
   "source": [
    "file_path=r\"G:\\My Drive\\backup jerry-200k(master copy)\\AI\\project_MCQ\\data_geometry.txt\"\n",
    "\n",
    "with open(file_path, 'r') as file: \n",
    "    TEXT=file.read() \n",
    "    "
   ]
  },
  {
   "cell_type": "code",
   "execution_count": 16,
   "metadata": {},
   "outputs": [
    {
     "data": {
      "text/plain": [
       "'{\"1\": {\"mcq\": \"multiple choice question\", \"options\": {\"a\": \"choice here\", \"b\": \"choice here\", \"c\": \"choice here\", \"d\": \"choice here\"}, \"correct\": \"correct answer\"}, \"2\": {\"mcq\": \"multiple choice question\", \"options\": {\"a\": \"choice here\", \"b\": \"choice here\", \"c\": \"choice here\", \"d\": \"choice here\"}, \"correct\": \"correct answer\"}, \"3\": {\"mcq\": \"multiple choice question\", \"options\": {\"a\": \"choice here\", \"b\": \"choice here\", \"c\": \"choice here\", \"d\": \"choice here\"}, \"correct\": \"correct answer\"}}'"
      ]
     },
     "execution_count": 16,
     "metadata": {},
     "output_type": "execute_result"
    }
   ],
   "source": [
    "# serialize the python dictionary into a JSON-formatted string. \n",
    "json.dumps(RESPONSE_JSON)"
   ]
  },
  {
   "cell_type": "code",
   "execution_count": 17,
   "metadata": {},
   "outputs": [],
   "source": [
    "NUMBER=5\n",
    "SUBJECT=\"Geometry\" \n",
    "TONE=\"Difficult\""
   ]
  },
  {
   "cell_type": "code",
   "execution_count": 18,
   "metadata": {},
   "outputs": [
    {
     "name": "stderr",
     "output_type": "stream",
     "text": [
      "c:\\Users\\jerry\\anaconda3\\lib\\site-packages\\langchain_core\\_api\\deprecation.py:119: LangChainDeprecationWarning: The method `Chain.__call__` was deprecated in langchain 0.1.0 and will be removed in 0.2.0. Use invoke instead.\n",
      "  warn_deprecated(\n"
     ]
    },
    {
     "name": "stdout",
     "output_type": "stream",
     "text": [
      "\n",
      "\n",
      "\u001b[1m> Entering new SequentialChain chain...\u001b[0m\n",
      "\n",
      "\n",
      "\u001b[1m> Entering new LLMChain chain...\u001b[0m\n",
      "Prompt after formatting:\n",
      "\u001b[32;1m\u001b[1;3m\n",
      "Text:High school geometry typically covers a range of topics designed to introduce students to the fundamental concepts and principles of geometry. The scope includes both theoretical understanding and practical applications. Here are the key areas usually covered in high school geometry:\n",
      "\n",
      "1. Basic Geometric Concepts\n",
      "Points, lines, line segments, rays, and planes\n",
      "Angles (acute, right, obtuse, and straight)\n",
      "Parallel and perpendicular lines\n",
      "2. Triangles\n",
      "Types of triangles (equilateral, isosceles, scalene)\n",
      "Triangle properties and theorems (Pythagorean theorem, Triangle inequality theorem)\n",
      "Congruence and similarity (criteria like SSS, SAS, ASA, and AA)\n",
      "3. Quadrilaterals and Polygons\n",
      "Properties of quadrilaterals (parallelograms, rectangles, squares, rhombuses, trapezoids)\n",
      "Classification and properties of polygons\n",
      "Interior and exterior angles of polygons\n",
      "4. Circles\n",
      "Properties of circles (radius, diameter, circumference, area)\n",
      "Arcs, chords, tangents, and secants\n",
      "Angle relationships in circles (inscribed angles, central angles)\n",
      "5. Coordinate Geometry\n",
      "Cartesian coordinate system\n",
      "Distance formula, midpoint formula\n",
      "Equation of a line (slope-intercept form, point-slope form)\n",
      "Graphing linear equations and inequalities\n",
      "6. Transformations\n",
      "Translation, rotation, reflection, and dilation\n",
      "Properties and effects of transformations\n",
      "Congruence and similarity through transformations\n",
      "7. Area and Perimeter\n",
      "Calculating area and perimeter of various shapes (triangles, rectangles, parallelograms, trapezoids, circles, and complex shapes)\n",
      "Using formulas and understanding derivations\n",
      "8. Surface Area and Volume\n",
      "Surface area and volume of three-dimensional figures (prisms, cylinders, pyramids, cones, spheres)\n",
      "Nets of 3D shapes\n",
      "9. Proofs and Logical Reasoning\n",
      "Understanding geometric proofs\n",
      "Writing two-column and paragraph proofs\n",
      "Use of postulates, theorems, and corollaries\n",
      "Logical reasoning (inductive and deductive reasoning)\n",
      "10. Constructions\n",
      "Basic geometric constructions using a compass and straightedge\n",
      "Constructing perpendicular bisectors, angle bisectors, parallel lines, and similar shapes\n",
      "11. Trigonometry Basics\n",
      "Introduction to trigonometric ratios (sine, cosine, tangent)\n",
      "Solving right triangles\n",
      "Applications of trigonometry in geometry\n",
      "12. Applications and Problem Solving\n",
      "Real-world applications of geometric concepts\n",
      "Solving word problems involving geometric principles\n",
      "Use of geometry in various fields such as art, architecture, engineering, and physics\n",
      "These topics provide a comprehensive foundation in geometry, preparing students for more advanced studies in mathematics and related fields. The curriculum can vary slightly depending on the educational standards and specific course requirements of different schools or educational systems.\n",
      "\n",
      "You are an expert MCQ maker. Given the above text, it is your job to create a quiz  of 5 multiple choice questions for Geometry students in Difficult tone. \n",
      "Make sure the questions are not repeated and check all the questions to be conforming the text as well.\n",
      "Make sure to format your response like  RESPONSE_JSON below  and use it as a guide. Ensure to make 5 MCQs\n",
      "### RESPONSE_JSON\n",
      "{\"1\": {\"mcq\": \"multiple choice question\", \"options\": {\"a\": \"choice here\", \"b\": \"choice here\", \"c\": \"choice here\", \"d\": \"choice here\"}, \"correct\": \"correct answer\"}, \"2\": {\"mcq\": \"multiple choice question\", \"options\": {\"a\": \"choice here\", \"b\": \"choice here\", \"c\": \"choice here\", \"d\": \"choice here\"}, \"correct\": \"correct answer\"}, \"3\": {\"mcq\": \"multiple choice question\", \"options\": {\"a\": \"choice here\", \"b\": \"choice here\", \"c\": \"choice here\", \"d\": \"choice here\"}, \"correct\": \"correct answer\"}}\n",
      "\n",
      "\u001b[0m\n",
      "\n",
      "\u001b[1m> Finished chain.\u001b[0m\n",
      "\n",
      "\n",
      "\u001b[1m> Entering new LLMChain chain...\u001b[0m\n",
      "Prompt after formatting:\n",
      "\u001b[32;1m\u001b[1;3m\n",
      "Text:High school geometry typically covers a range of topics designed to introduce students to the fundamental concepts and principles of geometry. The scope includes both theoretical understanding and practical applications. Here are the key areas usually covered in high school geometry:\n",
      "\n",
      "1. Basic Geometric Concepts\n",
      "Points, lines, line segments, rays, and planes\n",
      "Angles (acute, right, obtuse, and straight)\n",
      "Parallel and perpendicular lines\n",
      "2. Triangles\n",
      "Types of triangles (equilateral, isosceles, scalene)\n",
      "Triangle properties and theorems (Pythagorean theorem, Triangle inequality theorem)\n",
      "Congruence and similarity (criteria like SSS, SAS, ASA, and AA)\n",
      "3. Quadrilaterals and Polygons\n",
      "Properties of quadrilaterals (parallelograms, rectangles, squares, rhombuses, trapezoids)\n",
      "Classification and properties of polygons\n",
      "Interior and exterior angles of polygons\n",
      "4. Circles\n",
      "Properties of circles (radius, diameter, circumference, area)\n",
      "Arcs, chords, tangents, and secants\n",
      "Angle relationships in circles (inscribed angles, central angles)\n",
      "5. Coordinate Geometry\n",
      "Cartesian coordinate system\n",
      "Distance formula, midpoint formula\n",
      "Equation of a line (slope-intercept form, point-slope form)\n",
      "Graphing linear equations and inequalities\n",
      "6. Transformations\n",
      "Translation, rotation, reflection, and dilation\n",
      "Properties and effects of transformations\n",
      "Congruence and similarity through transformations\n",
      "7. Area and Perimeter\n",
      "Calculating area and perimeter of various shapes (triangles, rectangles, parallelograms, trapezoids, circles, and complex shapes)\n",
      "Using formulas and understanding derivations\n",
      "8. Surface Area and Volume\n",
      "Surface area and volume of three-dimensional figures (prisms, cylinders, pyramids, cones, spheres)\n",
      "Nets of 3D shapes\n",
      "9. Proofs and Logical Reasoning\n",
      "Understanding geometric proofs\n",
      "Writing two-column and paragraph proofs\n",
      "Use of postulates, theorems, and corollaries\n",
      "Logical reasoning (inductive and deductive reasoning)\n",
      "10. Constructions\n",
      "Basic geometric constructions using a compass and straightedge\n",
      "Constructing perpendicular bisectors, angle bisectors, parallel lines, and similar shapes\n",
      "11. Trigonometry Basics\n",
      "Introduction to trigonometric ratios (sine, cosine, tangent)\n",
      "Solving right triangles\n",
      "Applications of trigonometry in geometry\n",
      "12. Applications and Problem Solving\n",
      "Real-world applications of geometric concepts\n",
      "Solving word problems involving geometric principles\n",
      "Use of geometry in various fields such as art, architecture, engineering, and physics\n",
      "These topics provide a comprehensive foundation in geometry, preparing students for more advanced studies in mathematics and related fields. The curriculum can vary slightly depending on the educational standards and specific course requirements of different schools or educational systems.\n",
      "\n",
      "You are an expert MCQ maker. Given the above text, it is your job to create a quiz  of 5 multiple choice questions for Geometry students in Difficult tone. \n",
      "Make sure the questions are not repeated and check all the questions to be conforming the text as well.\n",
      "Make sure to format your response like  RESPONSE_JSON below  and use it as a guide. Ensure to make 5 MCQs\n",
      "### RESPONSE_JSON\n",
      "{\"1\": {\"mcq\": \"multiple choice question\", \"options\": {\"a\": \"choice here\", \"b\": \"choice here\", \"c\": \"choice here\", \"d\": \"choice here\"}, \"correct\": \"correct answer\"}, \"2\": {\"mcq\": \"multiple choice question\", \"options\": {\"a\": \"choice here\", \"b\": \"choice here\", \"c\": \"choice here\", \"d\": \"choice here\"}, \"correct\": \"correct answer\"}, \"3\": {\"mcq\": \"multiple choice question\", \"options\": {\"a\": \"choice here\", \"b\": \"choice here\", \"c\": \"choice here\", \"d\": \"choice here\"}, \"correct\": \"correct answer\"}}\n",
      "\n",
      "\u001b[0m\n",
      "\n",
      "\u001b[1m> Finished chain.\u001b[0m\n",
      "\n",
      "\u001b[1m> Finished chain.\u001b[0m\n"
     ]
    }
   ],
   "source": [
    "#https://python.langchain.com/docs/modules/model_io/llms/token_usage_tracking\n",
    "\n",
    "#How to setup Token Usage Tracking in LangChain\n",
    "with get_openai_callback() as cb:\n",
    "    response=generate_evaluate_chain(\n",
    "        {\n",
    "            \"text\": TEXT,\n",
    "            \"number\": NUMBER,\n",
    "            \"subject\":SUBJECT,\n",
    "            \"tone\": TONE,\n",
    "            \"response_json\": json.dumps(RESPONSE_JSON)\n",
    "        }\n",
    "        )"
   ]
  },
  {
   "cell_type": "code",
   "execution_count": 19,
   "metadata": {},
   "outputs": [
    {
     "data": {
      "text/plain": [
       "{'text': 'High school geometry typically covers a range of topics designed to introduce students to the fundamental concepts and principles of geometry. The scope includes both theoretical understanding and practical applications. Here are the key areas usually covered in high school geometry:\\n\\n1. Basic Geometric Concepts\\nPoints, lines, line segments, rays, and planes\\nAngles (acute, right, obtuse, and straight)\\nParallel and perpendicular lines\\n2. Triangles\\nTypes of triangles (equilateral, isosceles, scalene)\\nTriangle properties and theorems (Pythagorean theorem, Triangle inequality theorem)\\nCongruence and similarity (criteria like SSS, SAS, ASA, and AA)\\n3. Quadrilaterals and Polygons\\nProperties of quadrilaterals (parallelograms, rectangles, squares, rhombuses, trapezoids)\\nClassification and properties of polygons\\nInterior and exterior angles of polygons\\n4. Circles\\nProperties of circles (radius, diameter, circumference, area)\\nArcs, chords, tangents, and secants\\nAngle relationships in circles (inscribed angles, central angles)\\n5. Coordinate Geometry\\nCartesian coordinate system\\nDistance formula, midpoint formula\\nEquation of a line (slope-intercept form, point-slope form)\\nGraphing linear equations and inequalities\\n6. Transformations\\nTranslation, rotation, reflection, and dilation\\nProperties and effects of transformations\\nCongruence and similarity through transformations\\n7. Area and Perimeter\\nCalculating area and perimeter of various shapes (triangles, rectangles, parallelograms, trapezoids, circles, and complex shapes)\\nUsing formulas and understanding derivations\\n8. Surface Area and Volume\\nSurface area and volume of three-dimensional figures (prisms, cylinders, pyramids, cones, spheres)\\nNets of 3D shapes\\n9. Proofs and Logical Reasoning\\nUnderstanding geometric proofs\\nWriting two-column and paragraph proofs\\nUse of postulates, theorems, and corollaries\\nLogical reasoning (inductive and deductive reasoning)\\n10. Constructions\\nBasic geometric constructions using a compass and straightedge\\nConstructing perpendicular bisectors, angle bisectors, parallel lines, and similar shapes\\n11. Trigonometry Basics\\nIntroduction to trigonometric ratios (sine, cosine, tangent)\\nSolving right triangles\\nApplications of trigonometry in geometry\\n12. Applications and Problem Solving\\nReal-world applications of geometric concepts\\nSolving word problems involving geometric principles\\nUse of geometry in various fields such as art, architecture, engineering, and physics\\nThese topics provide a comprehensive foundation in geometry, preparing students for more advanced studies in mathematics and related fields. The curriculum can vary slightly depending on the educational standards and specific course requirements of different schools or educational systems.\\n',\n",
       " 'number': 5,\n",
       " 'subject': 'Geometry',\n",
       " 'tone': 'Difficult',\n",
       " 'response_json': '{\"1\": {\"mcq\": \"multiple choice question\", \"options\": {\"a\": \"choice here\", \"b\": \"choice here\", \"c\": \"choice here\", \"d\": \"choice here\"}, \"correct\": \"correct answer\"}, \"2\": {\"mcq\": \"multiple choice question\", \"options\": {\"a\": \"choice here\", \"b\": \"choice here\", \"c\": \"choice here\", \"d\": \"choice here\"}, \"correct\": \"correct answer\"}, \"3\": {\"mcq\": \"multiple choice question\", \"options\": {\"a\": \"choice here\", \"b\": \"choice here\", \"c\": \"choice here\", \"d\": \"choice here\"}, \"correct\": \"correct answer\"}}',\n",
       " 'quiz': '\\n{\\n\"1\": {\\n\"mcq\": \"Which of the following is NOT a type of triangle?\",\\n\"options\": {\\n\"a\": \"Equilateral\",\\n\"b\": \"Isosceles\",\\n\"c\": \"Right\",\\n\"d\": \"Curvilinear\"\\n},\\n\"correct\": \"d\"\\n},\\n\"2\": {\\n\"mcq\": \"What is the formula for calculating the area of a circle?\",\\n\"options\": {\\n\"a\": \"πr^2\",\\n\"b\": \"2πr\",\\n\"c\": \"2r^2\",\\n\"d\": \"π/2r\"\\n},\\n\"correct\": \"a\"\\n},\\n\"3\": {\\n\"mcq\": \"Which of the following is NOT a property of quadrilaterals?\",\\n\"options\": {\\n\"a\": \"Parallelograms\",\\n\"b\": \"Rectangles\",\\n\"c\": \"Rhombuses\",\\n\"d\": \"Triskelions\"\\n},\\n\"correct\": \"d\"\\n},\\n\"4\": {\\n\"mcq\": \"What is the equation of a line in slope-intercept form?\",\\n\"options\": {\\n\"a\": \"y = mx + b\",\\n\"b\": \"y = mx - b\",\\n\"c\": \"y = x + m\",\\n\"d\": \"y = b - mx\"\\n},\\n\"correct\": \"a\"\\n},\\n\"5\": {\\n\"mcq\": \"Which of the following is NOT a transformation in geometry?\",\\n\"options\": {\\n\"a\": \"Translation\",\\n\"b\": \"Rotation\",\\n\"c\": \"Reflection\",\\n\"d\": \"Expansion\"\\n},\\n\"correct\": \"d\"\\n}\\n}',\n",
       " 'review': '\\n{\\n\"1\": {\\n\"mcq\": \"What is the sum of the interior angles of a triangle?\",\\n\"options\": {\"a\": \"180 degrees\", \"b\": \"90 degrees\", \"c\": \"270 degrees\", \"d\": \"360 degrees\"},\\n\"correct\": \"a\"\\n},\\n\"2\": {\\n\"mcq\": \"Which of the following is NOT a type of quadrilateral?\",\\n\"options\": {\"a\": \"Parallelogram\", \"b\": \"Equilateral triangle\", \"c\": \"Rectangle\", \"d\": \"Rhombus\"},\\n\"correct\": \"b\"\\n},\\n\"3\": {\\n\"mcq\": \"What is the equation of a line in slope-intercept form?\",\\n\"options\": {\"a\": \"y = mx + b\", \"b\": \"y = ax^2 + bx + c\", \"c\": \"y = a/x + b\", \"d\": \"y = x^2 + y^2\"},\\n\"correct\": \"a\"\\n},\\n\"4\": {\\n\"mcq\": \"Which trigonometric ratio is equal to opposite/hypotenuse in a right triangle?\",\\n\"options\": {\"a\": \"Sine\", \"b\": \"Cosine\", \"c\": \"Tangent\", \"d\": \"Secant\"},\\n\"correct\": \"a\"\\n},\\n\"5\": {\\n\"mcq\": \"What is the formula for calculating the volume of a cone?\",\\n\"options\": {\"a\": \"V = 1/3 * π * r^2 * h\", \"b\": \"V = π * r^2\", \"c\": \"V = 2/3 * π * r^3\", \"d\": \"V = 4/3 * π * r^3\"},\\n\"correct\": \"a\"\\n}\\n}'}"
      ]
     },
     "execution_count": 19,
     "metadata": {},
     "output_type": "execute_result"
    }
   ],
   "source": [
    "response\n"
   ]
  },
  {
   "cell_type": "code",
   "execution_count": 21,
   "metadata": {},
   "outputs": [
    {
     "name": "stdout",
     "output_type": "stream",
     "text": [
      "\n",
      "{\n",
      "\"1\": {\n",
      "\"mcq\": \"What is the sum of the interior angles of a triangle?\",\n",
      "\"options\": {\"a\": \"180 degrees\", \"b\": \"90 degrees\", \"c\": \"270 degrees\", \"d\": \"360 degrees\"},\n",
      "\"correct\": \"a\"\n",
      "},\n",
      "\"2\": {\n",
      "\"mcq\": \"Which of the following is NOT a type of quadrilateral?\",\n",
      "\"options\": {\"a\": \"Parallelogram\", \"b\": \"Equilateral triangle\", \"c\": \"Rectangle\", \"d\": \"Rhombus\"},\n",
      "\"correct\": \"b\"\n",
      "},\n",
      "\"3\": {\n",
      "\"mcq\": \"What is the equation of a line in slope-intercept form?\",\n",
      "\"options\": {\"a\": \"y = mx + b\", \"b\": \"y = ax^2 + bx + c\", \"c\": \"y = a/x + b\", \"d\": \"y = x^2 + y^2\"},\n",
      "\"correct\": \"a\"\n",
      "},\n",
      "\"4\": {\n",
      "\"mcq\": \"Which trigonometric ratio is equal to opposite/hypotenuse in a right triangle?\",\n",
      "\"options\": {\"a\": \"Sine\", \"b\": \"Cosine\", \"c\": \"Tangent\", \"d\": \"Secant\"},\n",
      "\"correct\": \"a\"\n",
      "},\n",
      "\"5\": {\n",
      "\"mcq\": \"What is the formula for calculating the volume of a cone?\",\n",
      "\"options\": {\"a\": \"V = 1/3 * π * r^2 * h\", \"b\": \"V = π * r^2\", \"c\": \"V = 2/3 * π * r^3\", \"d\": \"V = 4/3 * π * r^3\"},\n",
      "\"correct\": \"a\"\n",
      "}\n",
      "}\n"
     ]
    }
   ],
   "source": [
    "print(response[\"review\"])"
   ]
  },
  {
   "cell_type": "code",
   "execution_count": 22,
   "metadata": {},
   "outputs": [
    {
     "name": "stdout",
     "output_type": "stream",
     "text": [
      "Geometry\n"
     ]
    }
   ],
   "source": [
    "print ( SUBJECT)"
   ]
  },
  {
   "cell_type": "code",
   "execution_count": 85,
   "metadata": {},
   "outputs": [
    {
     "data": {
      "text/plain": [
       "'05_29_2024_16_40_33'"
      ]
     },
     "execution_count": 85,
     "metadata": {},
     "output_type": "execute_result"
    }
   ],
   "source": [
    "from datetime import datetime \n",
    "datetime.now().strftime('%m_%d_%Y_%H_%M_%S')"
   ]
  },
  {
   "cell_type": "code",
   "execution_count": 86,
   "metadata": {},
   "outputs": [
    {
     "data": {
      "text/plain": [
       "'g:\\\\My Drive\\\\backup jerry-200k(master copy)\\\\AI\\\\project_MCQ\\\\experiment'"
      ]
     },
     "execution_count": 86,
     "metadata": {},
     "output_type": "execute_result"
    }
   ],
   "source": [
    "import os \n",
    "os.getcwd()"
   ]
  },
  {
   "cell_type": "code",
   "execution_count": null,
   "metadata": {},
   "outputs": [],
   "source": []
  }
 ],
 "metadata": {
  "kernelspec": {
   "display_name": "Python 3",
   "language": "python",
   "name": "python3"
  },
  "language_info": {
   "codemirror_mode": {
    "name": "ipython",
    "version": 3
   },
   "file_extension": ".py",
   "mimetype": "text/x-python",
   "name": "python",
   "nbconvert_exporter": "python",
   "pygments_lexer": "ipython3",
   "version": "3.8.19"
  }
 },
 "nbformat": 4,
 "nbformat_minor": 2
}
