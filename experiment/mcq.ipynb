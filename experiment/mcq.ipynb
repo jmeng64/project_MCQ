{
 "cells": [
  {
   "cell_type": "code",
   "execution_count": 1,
   "metadata": {},
   "outputs": [],
   "source": [
    "import os, json, pandas as pd, traceback"
   ]
  },
  {
   "cell_type": "code",
   "execution_count": 2,
   "metadata": {},
   "outputs": [],
   "source": [
    "# !pip install -U langchain-openai"
   ]
  },
  {
   "cell_type": "code",
   "execution_count": 3,
   "metadata": {},
   "outputs": [],
   "source": [
    "#from langchain.chat_models import ChatOpenAI\n",
    "# LangChainDeprecationWarning: The class `langchain_community.chat_models.openai.ChatOpenAI` was deprecated in langchain-community 0.0.10 and will be removed in 0.2.0. \n",
    "# An updated version of the class exists in the langchain-openai package and should be used instead. To use it run `pip install -U langchain-openai` and import as `from langchain_openai import ChatOpenAI`.\n",
    "from langchain_openai import ChatOpenAI\n"
   ]
  },
  {
   "cell_type": "code",
   "execution_count": 4,
   "metadata": {},
   "outputs": [],
   "source": [
    "import os\n",
    "from dotenv import load_dotenv\n",
    "\n",
    "load_dotenv() # taking env variables from .env file. \n",
    "\n",
    "mykey=os.environ[\"OPENAI_API_KEY\"]\n"
   ]
  },
  {
   "cell_type": "code",
   "execution_count": 5,
   "metadata": {},
   "outputs": [],
   "source": [
    "mykey=os.environ[\"OPENAI_API_KEY\"]\n",
    "\n",
    "models=[\"gpt-3.5\", \"gpt-3.5-turbo\", \"gpt-4\", \"gpt-4-turbo\"]  #  model choices \n",
    "\n",
    "# temperature   0 - more determinisic.   2 - more randomness \n",
    "llm=ChatOpenAI(openai_api_key=mykey, model_name=\"gpt-3.5-turbo\", temperature=0.5)\n"
   ]
  },
  {
   "cell_type": "code",
   "execution_count": 6,
   "metadata": {},
   "outputs": [],
   "source": [
    "from langchain.llms import OpenAI \n",
    "from langchain.prompts import PromptTemplate \n",
    "from langchain.chains import LLMChain \n",
    "from langchain.chains import SequentialChain \n",
    "from langchain.callbacks import get_openai_callback \n",
    "import PyPDF2\n"
   ]
  },
  {
   "cell_type": "code",
   "execution_count": 7,
   "metadata": {},
   "outputs": [],
   "source": [
    "RESPONSE_JSON = {\n",
    "    \"1\": {\n",
    "        \"mcq\": \"multiple choice question\",\n",
    "        \"options\": {\n",
    "            \"a\": \"choice here\",\n",
    "            \"b\": \"choice here\",\n",
    "            \"c\": \"choice here\",\n",
    "            \"d\": \"choice here\",\n",
    "        },\n",
    "        \"correct\": \"correct answer\",\n",
    "    },\n",
    "    \"2\": {\n",
    "        \"mcq\": \"multiple choice question\",\n",
    "        \"options\": {\n",
    "            \"a\": \"choice here\",\n",
    "            \"b\": \"choice here\",\n",
    "            \"c\": \"choice here\",\n",
    "            \"d\": \"choice here\",\n",
    "        },\n",
    "        \"correct\": \"correct answer\",\n",
    "    },\n",
    "    \"3\": {\n",
    "        \"mcq\": \"multiple choice question\",\n",
    "        \"options\": {\n",
    "            \"a\": \"choice here\",\n",
    "            \"b\": \"choice here\",\n",
    "            \"c\": \"choice here\",\n",
    "            \"d\": \"choice here\",\n",
    "        },\n",
    "        \"correct\": \"correct answer\",\n",
    "    },\n",
    "}"
   ]
  },
  {
   "cell_type": "code",
   "execution_count": 8,
   "metadata": {},
   "outputs": [],
   "source": [
    "TEMPLATE=\"\"\"\n",
    "You are an expert MCQ maker and an expert in the subject {subject}. It is your job to \\\n",
    "create a quiz  of {number} multiple choice questions for {subject} students in {tone} tone. \n",
    "Make sure the questions are not repeated and check all the questions to be conforming the text as well.\n",
    "Make sure to format your response like  RESPONSE_JSON below  and use it as a guide. \\\n",
    "Ensure to make {number} MCQs\n",
    "### RESPONSE_JSON\n",
    "{response_json}\n",
    "\n",
    "\"\"\""
   ]
  },
  {
   "cell_type": "code",
   "execution_count": 13,
   "metadata": {},
   "outputs": [],
   "source": [
    "quiz_generation_prompt = PromptTemplate(\n",
    "    input_variables=[\"number\", \"subject\", \"tone\", \"response_json\"],\n",
    "    template=TEMPLATE\n",
    "    )"
   ]
  },
  {
   "cell_type": "code",
   "execution_count": 14,
   "metadata": {},
   "outputs": [],
   "source": [
    "quiz_chain=LLMChain(llm=llm, prompt=quiz_generation_prompt, output_key=\"quiz\", verbose=False)\n",
    "\n",
    "# g:\\My Drive\\backup jerry-200k(master copy)\\AI\\project_MCQ\\env\\lib\\site-packages\\langchain_core\\_api\\deprecation.py:139: \n",
    "# LangChainDeprecationWarning: The class `LLMChain` was deprecated in LangChain 0.1.17 and will be removed in 1.0. \n",
    "# Use RunnableSequence, e.g., `prompt | llm` instead.\n",
    "\n",
    "from langchain_core.runnables.base import RunnableSequence\n",
    "quiz_chain2 = quiz_generation_prompt | llm  # , output_key=\"quiz\", verbose=False\n"
   ]
  },
  {
   "cell_type": "code",
   "execution_count": 15,
   "metadata": {},
   "outputs": [],
   "source": [
    "TEMPLATE2=\"\"\"\n",
    "You are an expert english grammarian and writer. Given a Multiple Choice Quiz for {subject} students.\\\n",
    "You need to evaluate the complexity of the question and give a complete analysis of the quiz. Only use at max 50 words for complexity analysis. \n",
    "if the quiz is not at per with the cognitive and analytical abilities of the students,\\\n",
    "update the quiz questions which needs to be changed and change the tone such that it perfectly fits the student abilities\n",
    "Quiz_MCQs:\n",
    "{quiz}\n",
    "\n",
    "Check from an expert English Writer of the above quiz:\n",
    "\"\"\""
   ]
  },
  {
   "cell_type": "code",
   "execution_count": 16,
   "metadata": {},
   "outputs": [],
   "source": [
    "quiz_evaluation_prompt=PromptTemplate(input_variables=[\"subject\", \"quiz\"], template=TEMPLATE2)"
   ]
  },
  {
   "cell_type": "code",
   "execution_count": 17,
   "metadata": {},
   "outputs": [],
   "source": [
    "review_chain=LLMChain(llm=llm, prompt=quiz_evaluation_prompt, output_key=\"review\", verbose=False)\n",
    "review_chain2 = prompt=quiz_evaluation_prompt | llm "
   ]
  },
  {
   "cell_type": "code",
   "execution_count": 18,
   "metadata": {},
   "outputs": [],
   "source": [
    "generate_evaluate_chain=SequentialChain(chains=[quiz_chain, review_chain], input_variables=[\"number\", \"subject\", \"tone\", \"response_json\"],\n",
    "                                        output_variables=[\"quiz\", \"review\"], verbose = False)\n",
    "\n",
    "generate_evaluate_chain2= quiz_chain2 | review_chain\n"
   ]
  },
  {
   "cell_type": "code",
   "execution_count": 19,
   "metadata": {},
   "outputs": [],
   "source": [
    "\n",
    "subjects = [ \"Algebra 2\",\"Algebra\",\"Geometry\", \"Machine Learning\", \"Data Science\",   \"Topology\"]\n",
    "\n",
    "NUMBER=5\n",
    "SUBJECT=subjects[2] \n",
    "TONE=\"Difficult\""
   ]
  },
  {
   "cell_type": "code",
   "execution_count": 20,
   "metadata": {},
   "outputs": [],
   "source": [
    "#https://python.langchain.com/docs/modules/model_io/llms/token_usage_tracking\n",
    "\n",
    "#How to setup Token Usage Tracking in LangChain\n",
    "with get_openai_callback() as cb:\n",
    "    response=generate_evaluate_chain.invoke(\n",
    "        {\n",
    "        \n",
    "            \"number\": NUMBER,\n",
    "            \"subject\":SUBJECT,\n",
    "            \"tone\": TONE,\n",
    "            \"response_json\": json.dumps(RESPONSE_JSON)\n",
    "        }\n",
    "        )"
   ]
  },
  {
   "cell_type": "code",
   "execution_count": 21,
   "metadata": {},
   "outputs": [
    {
     "data": {
      "text/plain": [
       "'\\n{\\n    \"1\": {\\n        \"mcq\": \"In a triangle ABC, if angle A = 60 degrees and angle B = 70 degrees, what is the measure of angle C?\",\\n        \"options\": {\\n            \"a\": \"50 degrees\",\\n            \"b\": \"60 degrees\",\\n            \"c\": \"70 degrees\",\\n            \"d\": \"80 degrees\"\\n        },\\n        \"correct\": \"d\"\\n    },\\n    \"2\": {\\n        \"mcq\": \"If a circle has a radius of 5 cm, what is the circumference of the circle?\",\\n        \"options\": {\\n            \"a\": \"10π cm\",\\n            \"b\": \"15π cm\",\\n            \"c\": \"20π cm\",\\n            \"d\": \"25π cm\"\\n        },\\n        \"correct\": \"c\"\\n    },\\n    \"3\": {\\n        \"mcq\": \"A rectangular prism has a length of 10 cm, width of 5 cm, and height of 3 cm. What is the total surface area of the prism?\",\\n        \"options\": {\\n            \"a\": \"120 cm^2\",\\n            \"b\": \"150 cm^2\",\\n            \"c\": \"180 cm^2\",\\n            \"d\": \"210 cm^2\"\\n        },\\n        \"correct\": \"d\"\\n    },\\n    \"4\": {\\n        \"mcq\": \"If a triangle has sides of length 5 cm, 12 cm, and 13 cm, what type of triangle is it?\",\\n        \"options\": {\\n            \"a\": \"Equilateral triangle\",\\n            \"b\": \"Isosceles triangle\",\\n            \"c\": \"Scalene triangle\",\\n            \"d\": \"Right triangle\"\\n        },\\n        \"correct\": \"d\"\\n    },\\n    \"5\": {\\n        \"mcq\": \"If a square has a diagonal of length 10 cm, what is the area of the square?\",\\n        \"options\": {\\n            \"a\": \"25 cm^2\",\\n            \"b\": \"50 cm^2\",\\n            \"c\": \"75 cm^2\",\\n            \"d\": \"100 cm^2\"\\n        },\\n        \"correct\": \"b\"\\n    }\\n}'"
      ]
     },
     "execution_count": 21,
     "metadata": {},
     "output_type": "execute_result"
    }
   ],
   "source": [
    "#quiz=json.loads(response[\"quiz\"])\n",
    "qz = response.get(\"quiz\", None)\n",
    "qz"
   ]
  },
  {
   "cell_type": "code",
   "execution_count": 22,
   "metadata": {},
   "outputs": [
    {
     "data": {
      "text/plain": [
       "{'1': {'mcq': 'In a triangle ABC, if angle A = 60 degrees and angle B = 70 degrees, what is the measure of angle C?',\n",
       "  'options': {'a': '50 degrees',\n",
       "   'b': '60 degrees',\n",
       "   'c': '70 degrees',\n",
       "   'd': '80 degrees'},\n",
       "  'correct': 'd'},\n",
       " '2': {'mcq': 'If a circle has a radius of 5 cm, what is the circumference of the circle?',\n",
       "  'options': {'a': '10π cm', 'b': '15π cm', 'c': '20π cm', 'd': '25π cm'},\n",
       "  'correct': 'c'},\n",
       " '3': {'mcq': 'A rectangular prism has a length of 10 cm, width of 5 cm, and height of 3 cm. What is the total surface area of the prism?',\n",
       "  'options': {'a': '120 cm^2',\n",
       "   'b': '150 cm^2',\n",
       "   'c': '180 cm^2',\n",
       "   'd': '210 cm^2'},\n",
       "  'correct': 'd'},\n",
       " '4': {'mcq': 'If a triangle has sides of length 5 cm, 12 cm, and 13 cm, what type of triangle is it?',\n",
       "  'options': {'a': 'Equilateral triangle',\n",
       "   'b': 'Isosceles triangle',\n",
       "   'c': 'Scalene triangle',\n",
       "   'd': 'Right triangle'},\n",
       "  'correct': 'd'},\n",
       " '5': {'mcq': 'If a square has a diagonal of length 10 cm, what is the area of the square?',\n",
       "  'options': {'a': '25 cm^2', 'b': '50 cm^2', 'c': '75 cm^2', 'd': '100 cm^2'},\n",
       "  'correct': 'b'}}"
      ]
     },
     "execution_count": 22,
     "metadata": {},
     "output_type": "execute_result"
    }
   ],
   "source": [
    "quiz=json.loads(qz)\n",
    "quiz "
   ]
  },
  {
   "cell_type": "code",
   "execution_count": 35,
   "metadata": {},
   "outputs": [
    {
     "data": {
      "text/plain": [
       "[{'MCQ': 'If a square has a diagonal of length 10 cm, what is the area of the square?',\n",
       "  'Choices': 'a->25 cm^2 || b->50 cm^2 || c->75 cm^2 || d->100 cm^2',\n",
       "  'correct': 'b'}]"
      ]
     },
     "execution_count": 35,
     "metadata": {},
     "output_type": "execute_result"
    }
   ],
   "source": [
    "from src.mcqgenerator.utils import read_file, get_table_data \n",
    "table_data=get_table_data(qz)\n",
    "table_data"
   ]
  },
  {
   "cell_type": "code",
   "execution_count": 34,
   "metadata": {},
   "outputs": [
    {
     "data": {
      "text/plain": [
       "{'1': {'mcq': 'In a triangle ABC, if angle A = 60 degrees and angle B = 70 degrees, what is the measure of angle C?',\n",
       "  'options': {'a': '50 degrees',\n",
       "   'b': '60 degrees',\n",
       "   'c': '70 degrees',\n",
       "   'd': '80 degrees'},\n",
       "  'correct': 'd'},\n",
       " '2': {'mcq': 'If a circle has a radius of 5 cm, what is the circumference of the circle?',\n",
       "  'options': {'a': '10π cm', 'b': '15π cm', 'c': '20π cm', 'd': '25π cm'},\n",
       "  'correct': 'c'},\n",
       " '3': {'mcq': 'A rectangular prism has a length of 10 cm, width of 5 cm, and height of 3 cm. What is the total surface area of the prism?',\n",
       "  'options': {'a': '120 cm^2',\n",
       "   'b': '150 cm^2',\n",
       "   'c': '180 cm^2',\n",
       "   'd': '210 cm^2'},\n",
       "  'correct': 'd'},\n",
       " '4': {'mcq': 'If a triangle has sides of length 5 cm, 12 cm, and 13 cm, what type of triangle is it?',\n",
       "  'options': {'a': 'Equilateral triangle',\n",
       "   'b': 'Isosceles triangle',\n",
       "   'c': 'Scalene triangle',\n",
       "   'd': 'Right triangle'},\n",
       "  'correct': 'd'},\n",
       " '5': {'mcq': 'If a square has a diagonal of length 10 cm, what is the area of the square?',\n",
       "  'options': {'a': '25 cm^2', 'b': '50 cm^2', 'c': '75 cm^2', 'd': '100 cm^2'},\n",
       "  'correct': 'b'}}"
      ]
     },
     "execution_count": 34,
     "metadata": {},
     "output_type": "execute_result"
    }
   ],
   "source": [
    "json.loads(qz)"
   ]
  },
  {
   "cell_type": "code",
   "execution_count": 27,
   "metadata": {},
   "outputs": [
    {
     "name": "stdout",
     "output_type": "stream",
     "text": [
      "in key: 1\n",
      "in key: 2\n",
      "in key: 3\n",
      "in key: 4\n",
      "in key: 5\n"
     ]
    },
    {
     "data": {
      "text/plain": [
       "[{'Question #': '1',\n",
       "  'MCQ': 'In a triangle ABC, if angle A = 60 degrees and angle B = 70 degrees, what is the measure of angle C?',\n",
       "  'Choices': 'a: 50 degrees || b: 60 degrees || c: 70 degrees || d: 80 degrees',\n",
       "  'Correct': 'd'},\n",
       " {'Question #': '2',\n",
       "  'MCQ': 'If a circle has a radius of 5 cm, what is the circumference of the circle?',\n",
       "  'Choices': 'a: 10π cm || b: 15π cm || c: 20π cm || d: 25π cm',\n",
       "  'Correct': 'c'},\n",
       " {'Question #': '3',\n",
       "  'MCQ': 'A rectangular prism has a length of 10 cm, width of 5 cm, and height of 3 cm. What is the total surface area of the prism?',\n",
       "  'Choices': 'a: 120 cm^2 || b: 150 cm^2 || c: 180 cm^2 || d: 210 cm^2',\n",
       "  'Correct': 'd'},\n",
       " {'Question #': '4',\n",
       "  'MCQ': 'If a triangle has sides of length 5 cm, 12 cm, and 13 cm, what type of triangle is it?',\n",
       "  'Choices': 'a: Equilateral triangle || b: Isosceles triangle || c: Scalene triangle || d: Right triangle',\n",
       "  'Correct': 'd'},\n",
       " {'Question #': '5',\n",
       "  'MCQ': 'If a square has a diagonal of length 10 cm, what is the area of the square?',\n",
       "  'Choices': 'a: 25 cm^2 || b: 50 cm^2 || c: 75 cm^2 || d: 100 cm^2',\n",
       "  'Correct': 'b'}]"
      ]
     },
     "execution_count": 27,
     "metadata": {},
     "output_type": "execute_result"
    }
   ],
   "source": [
    "quiz_table_data  = [] \n",
    "for key, value in quiz.items(): \n",
    "    print(f\"in key: {key}\" )\n",
    "    mcq=value[\"mcq\"]\n",
    "    options = \" || \".join( [f\"{option}: {option_value}\" for option, option_value in value[\"options\"].items()] )\n",
    "    correct = value[\"correct\"]\n",
    "    quiz_table_data.append({\"Question #\": key, \"MCQ\": mcq, \"Choices\": options, \"Correct\": correct })\n",
    "\n",
    "quiz_table_data                       "
   ]
  },
  {
   "cell_type": "code",
   "execution_count": 60,
   "metadata": {},
   "outputs": [
    {
     "data": {
      "text/html": [
       "<div>\n",
       "<style scoped>\n",
       "    .dataframe tbody tr th:only-of-type {\n",
       "        vertical-align: middle;\n",
       "    }\n",
       "\n",
       "    .dataframe tbody tr th {\n",
       "        vertical-align: top;\n",
       "    }\n",
       "\n",
       "    .dataframe thead th {\n",
       "        text-align: right;\n",
       "    }\n",
       "</style>\n",
       "<table border=\"1\" class=\"dataframe\">\n",
       "  <thead>\n",
       "    <tr style=\"text-align: right;\">\n",
       "      <th></th>\n",
       "      <th>Question #</th>\n",
       "      <th>MCQ</th>\n",
       "      <th>Choices</th>\n",
       "      <th>Correct</th>\n",
       "    </tr>\n",
       "  </thead>\n",
       "  <tbody>\n",
       "    <tr>\n",
       "      <th>0</th>\n",
       "      <td>1</td>\n",
       "      <td>In a right triangle, what is the name of the s...</td>\n",
       "      <td>a: Hypotenuse | b: Adjacent | c: Opposite | d:...</td>\n",
       "      <td>a</td>\n",
       "    </tr>\n",
       "    <tr>\n",
       "      <th>1</th>\n",
       "      <td>2</td>\n",
       "      <td>What is the sum of the interior angles of a pe...</td>\n",
       "      <td>a: 540 degrees | b: 360 degrees | c: 450 degre...</td>\n",
       "      <td>a</td>\n",
       "    </tr>\n",
       "    <tr>\n",
       "      <th>2</th>\n",
       "      <td>3</td>\n",
       "      <td>Which of the following is NOT a type of triang...</td>\n",
       "      <td>a: Equilateral | b: Isosceles | c: Scalene | d...</td>\n",
       "      <td>d</td>\n",
       "    </tr>\n",
       "    <tr>\n",
       "      <th>3</th>\n",
       "      <td>4</td>\n",
       "      <td>What is the formula for the area of a circle?</td>\n",
       "      <td>a: 2πr | b: πr^2 | c: πr | d: r^2</td>\n",
       "      <td>b</td>\n",
       "    </tr>\n",
       "    <tr>\n",
       "      <th>4</th>\n",
       "      <td>5</td>\n",
       "      <td>What is the name of a polygon with 8 sides?</td>\n",
       "      <td>a: Octagon | b: Hexagon | c: Decagon | d: Nonagon</td>\n",
       "      <td>a</td>\n",
       "    </tr>\n",
       "  </tbody>\n",
       "</table>\n",
       "</div>"
      ],
      "text/plain": [
       "  Question #                                                MCQ  \\\n",
       "0          1  In a right triangle, what is the name of the s...   \n",
       "1          2  What is the sum of the interior angles of a pe...   \n",
       "2          3  Which of the following is NOT a type of triang...   \n",
       "3          4      What is the formula for the area of a circle?   \n",
       "4          5        What is the name of a polygon with 8 sides?   \n",
       "\n",
       "                                             Choices Correct  \n",
       "0  a: Hypotenuse | b: Adjacent | c: Opposite | d:...       a  \n",
       "1  a: 540 degrees | b: 360 degrees | c: 450 degre...       a  \n",
       "2  a: Equilateral | b: Isosceles | c: Scalene | d...       d  \n",
       "3                  a: 2πr | b: πr^2 | c: πr | d: r^2       b  \n",
       "4  a: Octagon | b: Hexagon | c: Decagon | d: Nonagon       a  "
      ]
     },
     "execution_count": 60,
     "metadata": {},
     "output_type": "execute_result"
    }
   ],
   "source": [
    "tt=pd.DataFrame(quiz_table_data)\n",
    "tt"
   ]
  },
  {
   "cell_type": "code",
   "execution_count": 23,
   "metadata": {},
   "outputs": [],
   "source": [
    "type(qz)\n",
    "qz.to_csv(\"aa.csv\", index=False)"
   ]
  },
  {
   "cell_type": "code",
   "execution_count": 198,
   "metadata": {},
   "outputs": [
    {
     "data": {
      "text/plain": [
       "'20240726161037'"
      ]
     },
     "execution_count": 198,
     "metadata": {},
     "output_type": "execute_result"
    }
   ],
   "source": [
    "from datetime import datetime \n",
    "\n",
    "datetime.now().strftime('%Y%m%d%H%M%S')"
   ]
  },
  {
   "cell_type": "code",
   "execution_count": 199,
   "metadata": {},
   "outputs": [
    {
     "name": "stdout",
     "output_type": "stream",
     "text": [
      "20240726161955.log\n"
     ]
    }
   ],
   "source": [
    "LOG_FILE = f\"{datetime.now().strftime('%Y%m%d%H%M%S')}.log\"\n",
    "print (LOG_FILE)"
   ]
  },
  {
   "cell_type": "code",
   "execution_count": 59,
   "metadata": {},
   "outputs": [
    {
     "data": {
      "text/plain": [
       "'g:\\\\My Drive\\\\backup jerry-200k(master copy)\\\\AI\\\\project_MCQ\\\\experiment'"
      ]
     },
     "execution_count": 59,
     "metadata": {},
     "output_type": "execute_result"
    }
   ],
   "source": [
    "import os \n",
    "os.getcwd()"
   ]
  },
  {
   "cell_type": "code",
   "execution_count": 200,
   "metadata": {},
   "outputs": [
    {
     "name": "stdout",
     "output_type": "stream",
     "text": [
      "g:\\My Drive\\backup jerry-200k(master copy)\\AI\\project_MCQ\\experiment\\logs\n"
     ]
    }
   ],
   "source": [
    "log_path = os.path.join(os.getcwd(), \"logs\")\n",
    "print(log_path)"
   ]
  },
  {
   "cell_type": "code",
   "execution_count": 204,
   "metadata": {},
   "outputs": [
    {
     "data": {
      "text/plain": [
       "'g:\\\\My Drive\\\\backup jerry-200k(master copy)\\\\AI\\\\project_MCQ\\\\experiment\\\\logs\\\\20240726161955.log'"
      ]
     },
     "execution_count": 204,
     "metadata": {},
     "output_type": "execute_result"
    }
   ],
   "source": [
    "os.path.join(log_path, LOG_FILE)\n"
   ]
  },
  {
   "cell_type": "code",
   "execution_count": null,
   "metadata": {},
   "outputs": [],
   "source": []
  }
 ],
 "metadata": {
  "kernelspec": {
   "display_name": "Python 3",
   "language": "python",
   "name": "python3"
  },
  "language_info": {
   "codemirror_mode": {
    "name": "ipython",
    "version": 3
   },
   "file_extension": ".py",
   "mimetype": "text/x-python",
   "name": "python",
   "nbconvert_exporter": "python",
   "pygments_lexer": "ipython3",
   "version": "3.8.19"
  }
 },
 "nbformat": 4,
 "nbformat_minor": 2
}
